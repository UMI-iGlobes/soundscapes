{
 "cells": [
  {
   "cell_type": "code",
   "execution_count": 133,
   "metadata": {},
   "outputs": [
    {
     "data": {
      "text/html": [
       "<table>\n",
       "<caption>A data.frame: 6 × 9</caption>\n",
       "<thead>\n",
       "\t<tr><th></th><th scope=col>bioacoustic....double..</th><th scope=col>amplitude....double..</th><th scope=col>temporal_entropy....double..</th><th scope=col>acoustic_entropy....double..</th><th scope=col>acoustic_diversity....double..</th><th scope=col>acoustic_complexity....double..</th><th scope=col>nrows....integer..</th><th scope=col>ndsi....double..</th><th scope=col>hypothetical_cluster</th></tr>\n",
       "\t<tr><th></th><th scope=col>&lt;dbl&gt;</th><th scope=col>&lt;dbl&gt;</th><th scope=col>&lt;dbl&gt;</th><th scope=col>&lt;dbl&gt;</th><th scope=col>&lt;dbl&gt;</th><th scope=col>&lt;dbl&gt;</th><th scope=col>&lt;dbl&gt;</th><th scope=col>&lt;dbl&gt;</th><th scope=col>&lt;fct&gt;</th></tr>\n",
       "</thead>\n",
       "<tbody>\n",
       "\t<tr><th scope=row>1</th><td>-0.03739256</td><td> 0.4914947</td><td>-1.3783403</td><td>-0.221218831</td><td>-1.0489085</td><td>-0.2522929</td><td>-0.3889824</td><td> 0.01150327</td><td>9</td></tr>\n",
       "\t<tr><th scope=row>2</th><td> 0.02435816</td><td> 0.6322092</td><td>-2.3649393</td><td>-0.904553006</td><td>-0.9794271</td><td>-0.1515380</td><td>-0.3889824</td><td> 0.14803488</td><td>9</td></tr>\n",
       "\t<tr><th scope=row>3</th><td>-0.03188083</td><td> 0.9421197</td><td>-1.7675389</td><td>-0.866686132</td><td>-1.1038714</td><td>-0.5436540</td><td>-0.3889824</td><td>-0.53824260</td><td>9</td></tr>\n",
       "\t<tr><th scope=row>4</th><td> 0.08385346</td><td> 0.7232758</td><td>-1.6559800</td><td>-0.006147892</td><td>-0.9951104</td><td>-0.3994346</td><td>-0.3889824</td><td>-0.34232051</td><td>9</td></tr>\n",
       "\t<tr><th scope=row>5</th><td>-0.26395988</td><td> 1.6532576</td><td>-3.5128102</td><td>-1.439463097</td><td>-1.1344090</td><td>-0.3158087</td><td>-0.3889824</td><td>-0.21878164</td><td>9</td></tr>\n",
       "\t<tr><th scope=row>6</th><td>-0.16282745</td><td>-0.3758349</td><td> 0.1331966</td><td>-0.177260449</td><td>-0.9988549</td><td>-0.3643071</td><td>-0.3889824</td><td>-0.41511651</td><td>3</td></tr>\n",
       "</tbody>\n",
       "</table>\n"
      ],
      "text/latex": [
       "A data.frame: 6 × 9\n",
       "\\begin{tabular}{r|lllllllll}\n",
       "  & bioacoustic....double.. & amplitude....double.. & temporal\\_entropy....double.. & acoustic\\_entropy....double.. & acoustic\\_diversity....double.. & acoustic\\_complexity....double.. & nrows....integer.. & ndsi....double.. & hypothetical\\_cluster\\\\\n",
       "  & <dbl> & <dbl> & <dbl> & <dbl> & <dbl> & <dbl> & <dbl> & <dbl> & <fct>\\\\\n",
       "\\hline\n",
       "\t1 & -0.03739256 &  0.4914947 & -1.3783403 & -0.221218831 & -1.0489085 & -0.2522929 & -0.3889824 &  0.01150327 & 9\\\\\n",
       "\t2 &  0.02435816 &  0.6322092 & -2.3649393 & -0.904553006 & -0.9794271 & -0.1515380 & -0.3889824 &  0.14803488 & 9\\\\\n",
       "\t3 & -0.03188083 &  0.9421197 & -1.7675389 & -0.866686132 & -1.1038714 & -0.5436540 & -0.3889824 & -0.53824260 & 9\\\\\n",
       "\t4 &  0.08385346 &  0.7232758 & -1.6559800 & -0.006147892 & -0.9951104 & -0.3994346 & -0.3889824 & -0.34232051 & 9\\\\\n",
       "\t5 & -0.26395988 &  1.6532576 & -3.5128102 & -1.439463097 & -1.1344090 & -0.3158087 & -0.3889824 & -0.21878164 & 9\\\\\n",
       "\t6 & -0.16282745 & -0.3758349 &  0.1331966 & -0.177260449 & -0.9988549 & -0.3643071 & -0.3889824 & -0.41511651 & 3\\\\\n",
       "\\end{tabular}\n"
      ],
      "text/markdown": [
       "\n",
       "A data.frame: 6 × 9\n",
       "\n",
       "| <!--/--> | bioacoustic....double.. &lt;dbl&gt; | amplitude....double.. &lt;dbl&gt; | temporal_entropy....double.. &lt;dbl&gt; | acoustic_entropy....double.. &lt;dbl&gt; | acoustic_diversity....double.. &lt;dbl&gt; | acoustic_complexity....double.. &lt;dbl&gt; | nrows....integer.. &lt;dbl&gt; | ndsi....double.. &lt;dbl&gt; | hypothetical_cluster &lt;fct&gt; |\n",
       "|---|---|---|---|---|---|---|---|---|---|\n",
       "| 1 | -0.03739256 |  0.4914947 | -1.3783403 | -0.221218831 | -1.0489085 | -0.2522929 | -0.3889824 |  0.01150327 | 9 |\n",
       "| 2 |  0.02435816 |  0.6322092 | -2.3649393 | -0.904553006 | -0.9794271 | -0.1515380 | -0.3889824 |  0.14803488 | 9 |\n",
       "| 3 | -0.03188083 |  0.9421197 | -1.7675389 | -0.866686132 | -1.1038714 | -0.5436540 | -0.3889824 | -0.53824260 | 9 |\n",
       "| 4 |  0.08385346 |  0.7232758 | -1.6559800 | -0.006147892 | -0.9951104 | -0.3994346 | -0.3889824 | -0.34232051 | 9 |\n",
       "| 5 | -0.26395988 |  1.6532576 | -3.5128102 | -1.439463097 | -1.1344090 | -0.3158087 | -0.3889824 | -0.21878164 | 9 |\n",
       "| 6 | -0.16282745 | -0.3758349 |  0.1331966 | -0.177260449 | -0.9988549 | -0.3643071 | -0.3889824 | -0.41511651 | 3 |\n",
       "\n"
      ],
      "text/plain": [
       "  bioacoustic....double.. amplitude....double.. temporal_entropy....double..\n",
       "1 -0.03739256              0.4914947            -1.3783403                  \n",
       "2  0.02435816              0.6322092            -2.3649393                  \n",
       "3 -0.03188083              0.9421197            -1.7675389                  \n",
       "4  0.08385346              0.7232758            -1.6559800                  \n",
       "5 -0.26395988              1.6532576            -3.5128102                  \n",
       "6 -0.16282745             -0.3758349             0.1331966                  \n",
       "  acoustic_entropy....double.. acoustic_diversity....double..\n",
       "1 -0.221218831                 -1.0489085                    \n",
       "2 -0.904553006                 -0.9794271                    \n",
       "3 -0.866686132                 -1.1038714                    \n",
       "4 -0.006147892                 -0.9951104                    \n",
       "5 -1.439463097                 -1.1344090                    \n",
       "6 -0.177260449                 -0.9988549                    \n",
       "  acoustic_complexity....double.. nrows....integer.. ndsi....double..\n",
       "1 -0.2522929                      -0.3889824          0.01150327     \n",
       "2 -0.1515380                      -0.3889824          0.14803488     \n",
       "3 -0.5436540                      -0.3889824         -0.53824260     \n",
       "4 -0.3994346                      -0.3889824         -0.34232051     \n",
       "5 -0.3158087                      -0.3889824         -0.21878164     \n",
       "6 -0.3643071                      -0.3889824         -0.41511651     \n",
       "  hypothetical_cluster\n",
       "1 9                   \n",
       "2 9                   \n",
       "3 9                   \n",
       "4 9                   \n",
       "5 9                   \n",
       "6 3                   "
      ]
     },
     "metadata": {},
     "output_type": "display_data"
    }
   ],
   "source": [
    "new_data <- read.csv(file = \"downloads/jake_data_proximity_analysis.csv\")\n",
    "new_data$Site<-NULL\n",
    "new_data$Date....as.Date.character....format.....Y..m..d..<-NULL\n",
    "new_data$Time....character..<-NULL\n",
    "new_data$proximity_percentage<-NULL\n",
    "new_data[,-9] <- scale(new_data[,-9])\n",
    "new_data$hypothetical_cluster<- as.factor(as.numeric(new_data$hypothetical_cluster))\n",
    "names(new_data)[7] <- \"nrows....integer..\"\n",
    "head(new_data)"
   ]
  },
  {
   "cell_type": "code",
   "execution_count": 8,
   "metadata": {},
   "outputs": [
    {
     "name": "stderr",
     "output_type": "stream",
     "text": [
      "Installing package into 'C:/Users/cflow/Documents/R/win-library/3.6'\n",
      "(as 'lib' is unspecified)\n",
      "\n",
      "also installing the dependencies 'magrittr', 'pkgconfig', 'Rcpp', 'tibble', 'hms', 'R6', 'clipr', 'BH'\n",
      "\n",
      "\n"
     ]
    },
    {
     "name": "stdout",
     "output_type": "stream",
     "text": [
      "package 'magrittr' successfully unpacked and MD5 sums checked\n",
      "package 'pkgconfig' successfully unpacked and MD5 sums checked\n",
      "package 'Rcpp' successfully unpacked and MD5 sums checked\n",
      "package 'tibble' successfully unpacked and MD5 sums checked\n",
      "package 'hms' successfully unpacked and MD5 sums checked\n",
      "package 'R6' successfully unpacked and MD5 sums checked\n",
      "package 'clipr' successfully unpacked and MD5 sums checked\n",
      "package 'BH' successfully unpacked and MD5 sums checked\n",
      "package 'readr' successfully unpacked and MD5 sums checked\n",
      "\n",
      "The downloaded binary packages are in\n",
      "\tC:\\Users\\cflow\\AppData\\Local\\Temp\\RtmpsJeFSz\\downloaded_packages\n"
     ]
    },
    {
     "name": "stderr",
     "output_type": "stream",
     "text": [
      "Warning message:\n",
      "\"package 'readr' was built under R version 3.6.3\"\n"
     ]
    }
   ],
   "source": [
    "install.packages(\"readr\")\n"
   ]
  },
  {
   "cell_type": "code",
   "execution_count": 73,
   "metadata": {},
   "outputs": [],
   "source": [
    "library(readr)"
   ]
  },
  {
   "cell_type": "code",
   "execution_count": 94,
   "metadata": {},
   "outputs": [
    {
     "name": "stderr",
     "output_type": "stream",
     "text": [
      "Parsed with column specification:\n",
      "cols(\n",
      "  Site = \u001b[31mcol_character()\u001b[39m,\n",
      "  Date....as.Date.character....format.....Y..m..d.. = \u001b[34mcol_date(format = \"\")\u001b[39m,\n",
      "  Time....character.. = \u001b[31mcol_character()\u001b[39m,\n",
      "  Name....character.. = \u001b[31mcol_character()\u001b[39m,\n",
      "  File_Start_Time....character.. = \u001b[32mcol_double()\u001b[39m,\n",
      "  File_End_Time....character.. = \u001b[32mcol_double()\u001b[39m,\n",
      "  bioacoustic....double.. = \u001b[32mcol_double()\u001b[39m,\n",
      "  amplitude....double.. = \u001b[32mcol_double()\u001b[39m,\n",
      "  temporal_entropy....double.. = \u001b[32mcol_double()\u001b[39m,\n",
      "  spectral_entropy....double.. = \u001b[32mcol_double()\u001b[39m,\n",
      "  acoustic_entropy....double.. = \u001b[32mcol_double()\u001b[39m,\n",
      "  acoustic_diversity....double.. = \u001b[32mcol_double()\u001b[39m,\n",
      "  acoustic_evenness....double.. = \u001b[32mcol_double()\u001b[39m,\n",
      "  acoustic_complexity....double.. = \u001b[32mcol_double()\u001b[39m,\n",
      "  nrows....integer.. = \u001b[32mcol_double()\u001b[39m,\n",
      "  ndsi....double.. = \u001b[32mcol_double()\u001b[39m,\n",
      "  cluster..nine..clusters = \u001b[32mcol_double()\u001b[39m,\n",
      "  cluster..fifteen..clusters = \u001b[32mcol_double()\u001b[39m\n",
      ")\n",
      "\n"
     ]
    },
    {
     "data": {
      "text/html": [
       "<table>\n",
       "<caption>A tibble: 6 × 9</caption>\n",
       "<thead>\n",
       "\t<tr><th scope=col>bioacoustic....double..</th><th scope=col>amplitude....double..</th><th scope=col>temporal_entropy....double..</th><th scope=col>acoustic_entropy....double..</th><th scope=col>acoustic_diversity....double..</th><th scope=col>acoustic_complexity....double..</th><th scope=col>nrows....integer..</th><th scope=col>ndsi....double..</th><th scope=col>cluster..nine..clusters</th></tr>\n",
       "\t<tr><th scope=col>&lt;dbl&gt;</th><th scope=col>&lt;dbl&gt;</th><th scope=col>&lt;dbl&gt;</th><th scope=col>&lt;dbl&gt;</th><th scope=col>&lt;dbl&gt;</th><th scope=col>&lt;dbl&gt;</th><th scope=col>&lt;dbl&gt;</th><th scope=col>&lt;dbl&gt;</th><th scope=col>&lt;fct&gt;</th></tr>\n",
       "</thead>\n",
       "<tbody>\n",
       "\t<tr><td>-1.15128774</td><td>0.05357391</td><td>-1.02517852</td><td>1.657195</td><td>1.725522</td><td>2.431469</td><td> 0.7502799</td><td>0.3758906</td><td>4</td></tr>\n",
       "\t<tr><td>-0.58359367</td><td>0.22106740</td><td>-0.97234193</td><td>1.619785</td><td>1.657601</td><td>2.757101</td><td>-0.3177701</td><td>0.9984916</td><td>4</td></tr>\n",
       "\t<tr><td>-0.04681131</td><td>1.22597713</td><td>-0.08918344</td><td>1.579793</td><td>1.622160</td><td>2.445764</td><td>-0.3177701</td><td>0.5591209</td><td>4</td></tr>\n",
       "\t<tr><td> 0.97787851</td><td>0.75623775</td><td> 0.18785748</td><td>1.469510</td><td>1.660114</td><td>3.546632</td><td>-0.3177701</td><td>0.9850234</td><td>4</td></tr>\n",
       "\t<tr><td>-0.25463050</td><td>0.96572811</td><td>-0.02815722</td><td>1.601009</td><td>1.606197</td><td>2.642051</td><td> 0.7502799</td><td>0.4885602</td><td>4</td></tr>\n",
       "\t<tr><td> 1.11485166</td><td>0.05861859</td><td>-0.19222905</td><td>1.608395</td><td>1.370288</td><td>2.052151</td><td>-0.3177701</td><td>0.7700507</td><td>1</td></tr>\n",
       "</tbody>\n",
       "</table>\n"
      ],
      "text/latex": [
       "A tibble: 6 × 9\n",
       "\\begin{tabular}{lllllllll}\n",
       " bioacoustic....double.. & amplitude....double.. & temporal\\_entropy....double.. & acoustic\\_entropy....double.. & acoustic\\_diversity....double.. & acoustic\\_complexity....double.. & nrows....integer.. & ndsi....double.. & cluster..nine..clusters\\\\\n",
       " <dbl> & <dbl> & <dbl> & <dbl> & <dbl> & <dbl> & <dbl> & <dbl> & <fct>\\\\\n",
       "\\hline\n",
       "\t -1.15128774 & 0.05357391 & -1.02517852 & 1.657195 & 1.725522 & 2.431469 &  0.7502799 & 0.3758906 & 4\\\\\n",
       "\t -0.58359367 & 0.22106740 & -0.97234193 & 1.619785 & 1.657601 & 2.757101 & -0.3177701 & 0.9984916 & 4\\\\\n",
       "\t -0.04681131 & 1.22597713 & -0.08918344 & 1.579793 & 1.622160 & 2.445764 & -0.3177701 & 0.5591209 & 4\\\\\n",
       "\t  0.97787851 & 0.75623775 &  0.18785748 & 1.469510 & 1.660114 & 3.546632 & -0.3177701 & 0.9850234 & 4\\\\\n",
       "\t -0.25463050 & 0.96572811 & -0.02815722 & 1.601009 & 1.606197 & 2.642051 &  0.7502799 & 0.4885602 & 4\\\\\n",
       "\t  1.11485166 & 0.05861859 & -0.19222905 & 1.608395 & 1.370288 & 2.052151 & -0.3177701 & 0.7700507 & 1\\\\\n",
       "\\end{tabular}\n"
      ],
      "text/markdown": [
       "\n",
       "A tibble: 6 × 9\n",
       "\n",
       "| bioacoustic....double.. &lt;dbl&gt; | amplitude....double.. &lt;dbl&gt; | temporal_entropy....double.. &lt;dbl&gt; | acoustic_entropy....double.. &lt;dbl&gt; | acoustic_diversity....double.. &lt;dbl&gt; | acoustic_complexity....double.. &lt;dbl&gt; | nrows....integer.. &lt;dbl&gt; | ndsi....double.. &lt;dbl&gt; | cluster..nine..clusters &lt;fct&gt; |\n",
       "|---|---|---|---|---|---|---|---|---|\n",
       "| -1.15128774 | 0.05357391 | -1.02517852 | 1.657195 | 1.725522 | 2.431469 |  0.7502799 | 0.3758906 | 4 |\n",
       "| -0.58359367 | 0.22106740 | -0.97234193 | 1.619785 | 1.657601 | 2.757101 | -0.3177701 | 0.9984916 | 4 |\n",
       "| -0.04681131 | 1.22597713 | -0.08918344 | 1.579793 | 1.622160 | 2.445764 | -0.3177701 | 0.5591209 | 4 |\n",
       "|  0.97787851 | 0.75623775 |  0.18785748 | 1.469510 | 1.660114 | 3.546632 | -0.3177701 | 0.9850234 | 4 |\n",
       "| -0.25463050 | 0.96572811 | -0.02815722 | 1.601009 | 1.606197 | 2.642051 |  0.7502799 | 0.4885602 | 4 |\n",
       "|  1.11485166 | 0.05861859 | -0.19222905 | 1.608395 | 1.370288 | 2.052151 | -0.3177701 | 0.7700507 | 1 |\n",
       "\n"
      ],
      "text/plain": [
       "  bioacoustic....double.. amplitude....double.. temporal_entropy....double..\n",
       "1 -1.15128774             0.05357391            -1.02517852                 \n",
       "2 -0.58359367             0.22106740            -0.97234193                 \n",
       "3 -0.04681131             1.22597713            -0.08918344                 \n",
       "4  0.97787851             0.75623775             0.18785748                 \n",
       "5 -0.25463050             0.96572811            -0.02815722                 \n",
       "6  1.11485166             0.05861859            -0.19222905                 \n",
       "  acoustic_entropy....double.. acoustic_diversity....double..\n",
       "1 1.657195                     1.725522                      \n",
       "2 1.619785                     1.657601                      \n",
       "3 1.579793                     1.622160                      \n",
       "4 1.469510                     1.660114                      \n",
       "5 1.601009                     1.606197                      \n",
       "6 1.608395                     1.370288                      \n",
       "  acoustic_complexity....double.. nrows....integer.. ndsi....double..\n",
       "1 2.431469                         0.7502799         0.3758906       \n",
       "2 2.757101                        -0.3177701         0.9984916       \n",
       "3 2.445764                        -0.3177701         0.5591209       \n",
       "4 3.546632                        -0.3177701         0.9850234       \n",
       "5 2.642051                         0.7502799         0.4885602       \n",
       "6 2.052151                        -0.3177701         0.7700507       \n",
       "  cluster..nine..clusters\n",
       "1 4                      \n",
       "2 4                      \n",
       "3 4                      \n",
       "4 4                      \n",
       "5 4                      \n",
       "6 1                      "
      ]
     },
     "metadata": {},
     "output_type": "display_data"
    }
   ],
   "source": [
    "urlfile=\"https://raw.githubusercontent.com/UMI-iGlobes/soundscapes/master/indices_with_clusters.csv\"\n",
    "original_data<-read_csv(url(urlfile))\n",
    "original_data$acoustic_evenness....double..<-NULL\n",
    "original_data$spectral_entropy....double..<-NULL\n",
    "original_data$cluster..fifteen..clusters<-NULL\n",
    "original_data$Site<-NULL\n",
    "original_data$Date....as.Date.character....format.....Y..m..d..<-NULL\n",
    "original_data$Time....character..<-NULL\n",
    "original_data$File_Start_Time....character..<-NULL\n",
    "original_data$File_End_Time....character..<-NULL\n",
    "original_data$Name....character..<-NULL\n",
    "original_data[,-9]<- scale(original_data[,-9])\n",
    "original_data$cluster..nine..clusters<- as.factor(as.numeric(original_data$cluster..nine..clusters))\n",
    "head(original_data)"
   ]
  },
  {
   "cell_type": "code",
   "execution_count": 95,
   "metadata": {},
   "outputs": [],
   "source": [
    "set.seed(17)\n",
    "data_set_size <- floor(nrow(original_data)/10)\n",
    "indexes <- sample(1:nrow(original_data), size = data_set_size)\n",
    "training <- original_data[-indexes,]\n",
    "validation <- original_data[indexes,]"
   ]
  },
  {
   "cell_type": "code",
   "execution_count": 137,
   "metadata": {},
   "outputs": [
    {
     "name": "stderr",
     "output_type": "stream",
     "text": [
      "Warning message in install.packages(\"randomForest\", \"caret\"):\n",
      "\"'lib = \"caret\"' is not writable\"\n"
     ]
    },
    {
     "ename": "ERROR",
     "evalue": "Error in install.packages(\"randomForest\", \"caret\"): unable to install packages\n",
     "output_type": "error",
     "traceback": [
      "Error in install.packages(\"randomForest\", \"caret\"): unable to install packages\nTraceback:\n",
      "1. install.packages(\"randomForest\", \"caret\")",
      "2. stop(\"unable to install packages\")"
     ]
    }
   ],
   "source": [
    "install.packages(\"randomForest\")\n",
    "library(randomForest)\n",
    "library(caret)"
   ]
  },
  {
   "cell_type": "code",
   "execution_count": 97,
   "metadata": {},
   "outputs": [],
   "source": [
    "rf_classifier = randomForest(cluster..nine..clusters ~ ., data=training, ntree=100, mtry=2, importance=TRUE)"
   ]
  },
  {
   "cell_type": "code",
   "execution_count": 101,
   "metadata": {},
   "outputs": [
    {
     "data": {
      "text/plain": [
       "\n",
       "Call:\n",
       " randomForest(formula = cluster..nine..clusters ~ ., data = training,      ntree = 100, mtry = 2, importance = TRUE) \n",
       "               Type of random forest: classification\n",
       "                     Number of trees: 100\n",
       "No. of variables tried at each split: 2\n",
       "\n",
       "        OOB estimate of  error rate: 4.22%\n",
       "Confusion matrix:\n",
       "     1   2    3   4    5    6   7   8    9 class.error\n",
       "1 1290   0   25  16   17    4   0   1   20  0.06045157\n",
       "2    0 179    1   0    0    0   2   0    0  0.01648352\n",
       "3   15   0 2991   1   25   17   0   1   49  0.03484995\n",
       "4   18   1    1 757    1    0   3   0    7  0.03934010\n",
       "5   32   0   25   4 2021    4  17   0   11  0.04399243\n",
       "6    3   0   35   0    3 1310   1   0   18  0.04379562\n",
       "7    1   1    5  16   34    2 806   1    8  0.07780320\n",
       "8    0   0    1   2    0    0   1 243    5  0.03571429\n",
       "9   11   0   37   4    4   13   9   2 2552  0.03039514"
      ]
     },
     "metadata": {},
     "output_type": "display_data"
    }
   ],
   "source": [
    "rf_classifier"
   ]
  },
  {
   "cell_type": "code",
   "execution_count": 104,
   "metadata": {},
   "outputs": [
    {
     "data": {
      "image/png": "[encoded data removed]",
      "text/plain": [
       "plot without title"
      ]
     },
     "metadata": {
      "image/png": {
       "height": 420,
       "width": 420
      }
     },
     "output_type": "display_data"
    }
   ],
   "source": [
    "varImpPlot(rf_classifier)"
   ]
  },
  {
   "cell_type": "code",
   "execution_count": 107,
   "metadata": {},
   "outputs": [
    {
     "data": {
      "text/plain": [
       "        predicted\n",
       "observed   1   2   3   4   5   6   7   8   9\n",
       "       1 161   0   2   3   3   0   0   0   1\n",
       "       2   0  16   0   0   0   0   0   0   0\n",
       "       3   2   0 311   0   4   1   0   0   8\n",
       "       4   1   2   1  79   0   0   0   0   0\n",
       "       5   1   0   3   1 214   1   2   0   0\n",
       "       6   1   0   2   0   1 151   0   0   2\n",
       "       7   0   0   0   2   3   0 109   0   0\n",
       "       8   0   0   0   0   0   0   0  16   1\n",
       "       9   4   0   5   0   1   0   0   0 294"
      ]
     },
     "metadata": {},
     "output_type": "display_data"
    }
   ],
   "source": [
    "prediction_for_table <- predict(rf_classifier,validation[,-9])\n",
    "table(observed=validation$cluster..nine..clusters,predicted=prediction_for_table)"
   ]
  },
  {
   "cell_type": "code",
   "execution_count": 141,
   "metadata": {},
   "outputs": [
    {
     "name": "stderr",
     "output_type": "stream",
     "text": [
      "Installing package into 'C:/Users/cflow/Documents/R/win-library/3.6'\n",
      "(as 'lib' is unspecified)\n",
      "\n",
      "Warning message:\n",
      "\"package 'caret' is in use and will not be installed\"\n"
     ]
    }
   ],
   "source": [
    "install.packages(\"caret\")\n",
    "library(caret)\n"
   ]
  },
  {
   "cell_type": "code",
   "execution_count": 145,
   "metadata": {},
   "outputs": [
    {
     "data": {
      "text/plain": [
       "Confusion Matrix and Statistics\n",
       "\n",
       "          Reference\n",
       "Prediction   1   2   3   4   5   6   7   8   9\n",
       "         1 184   0   3  10  17   0   0   1   1\n",
       "         2   0   1   0   0   0   0   0   0   0\n",
       "         3   1   0 178   0   8  21   0   0   7\n",
       "         4  14   1   0  36   2   0   0   0   0\n",
       "         5   0   0   5   0  49   0   0   0   2\n",
       "         6   0   0   3   0   1 282   0   0   1\n",
       "         7   0   0   0   0   1   0   0   0   0\n",
       "         8   0   0   0   0   0   0   0   2   4\n",
       "         9   1   0   1   1   0   0   1   1 172\n",
       "\n",
       "Overall Statistics\n",
       "                                          \n",
       "               Accuracy : 0.8933          \n",
       "                 95% CI : (0.8726, 0.9116)\n",
       "    No Information Rate : 0.2994          \n",
       "    P-Value [Acc > NIR] : < 2.2e-16       \n",
       "                                          \n",
       "                  Kappa : 0.8656          \n",
       "                                          \n",
       " Mcnemar's Test P-Value : NA              \n",
       "\n",
       "Statistics by Class:\n",
       "\n",
       "                     Class: 1  Class: 2 Class: 3 Class: 4 Class: 5 Class: 6\n",
       "Sensitivity            0.9200 0.5000000   0.9368  0.76596  0.62821   0.9307\n",
       "Specificity            0.9606 1.0000000   0.9550  0.98238  0.99251   0.9929\n",
       "Pos Pred Value         0.8519 1.0000000   0.8279  0.67925  0.87500   0.9826\n",
       "Neg Pred Value         0.9799 0.9990109   0.9849  0.98853  0.96967   0.9710\n",
       "Prevalence             0.1976 0.0019763   0.1877  0.04644  0.07708   0.2994\n",
       "Detection Rate         0.1818 0.0009881   0.1759  0.03557  0.04842   0.2787\n",
       "Detection Prevalence   0.2134 0.0009881   0.2125  0.05237  0.05534   0.2836\n",
       "Balanced Accuracy      0.9403 0.7500000   0.9459  0.87417  0.81036   0.9618\n",
       "                      Class: 7 Class: 8 Class: 9\n",
       "Sensitivity          0.0000000 0.500000   0.9198\n",
       "Specificity          0.9990109 0.996032   0.9939\n",
       "Pos Pred Value       0.0000000 0.333333   0.9718\n",
       "Neg Pred Value       0.9990109 0.998012   0.9820\n",
       "Prevalence           0.0009881 0.003953   0.1848\n",
       "Detection Rate       0.0000000 0.001976   0.1700\n",
       "Detection Prevalence 0.0009881 0.005929   0.1749\n",
       "Balanced Accuracy    0.4995054 0.748016   0.9569"
      ]
     },
     "metadata": {},
     "output_type": "display_data"
    }
   ],
   "source": [
    "prediction_for_table <- predict(rf_classifier,new_data[,-9])\n",
    "confusionMatrix(prediction_for_table,new_data[,9])"
   ]
  },
  {
   "cell_type": "code",
   "execution_count": 144,
   "metadata": {},
   "outputs": [
    {
     "name": "stderr",
     "output_type": "stream",
     "text": [
      "Installing package into 'C:/Users/cflow/Documents/R/win-library/3.6'\n",
      "(as 'lib' is unspecified)\n",
      "\n"
     ]
    },
    {
     "name": "stdout",
     "output_type": "stream",
     "text": [
      "package 'e1071' successfully unpacked and MD5 sums checked\n",
      "\n",
      "The downloaded binary packages are in\n",
      "\tC:\\Users\\cflow\\AppData\\Local\\Temp\\RtmpsJeFSz\\downloaded_packages\n"
     ]
    }
   ],
   "source": [
    "install.packages(\"e1071\")"
   ]
  }
 ],
 "metadata": {
  "kernelspec": {
   "display_name": "R",
   "language": "R",
   "name": "ir"
  },
  "language_info": {
   "codemirror_mode": "r",
   "file_extension": ".r",
   "mimetype": "text/x-r-source",
   "name": "R",
   "pygments_lexer": "r",
   "version": "3.6.2"
  }
 },
 "nbformat": 4,
 "nbformat_minor": 4
}
